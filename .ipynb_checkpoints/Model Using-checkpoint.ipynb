{
 "cells": [
  {
   "cell_type": "code",
   "execution_count": 3,
   "id": "8a912103-97c1-4b11-bd6e-c66a7623a3fe",
   "metadata": {},
   "outputs": [
    {
     "data": {
      "text/plain": [
       "array([0.64])"
      ]
     },
     "execution_count": 3,
     "metadata": {},
     "output_type": "execute_result"
    }
   ],
   "source": [
    "import numpy as np\n",
    "from joblib import dump,load\n",
    "\n",
    "features = np.array([[-0.54294179, -0.62738866, -0.64590104,  0.26051989 , 0.52311744,  0.0645751,\n",
    "  -0.46014325, -0.21610391 , 1.47665244, -0.8437807]])\n",
    "model = load(\"Magic.joblib\")\n",
    "model.predict(features)"
   ]
  }
 ],
 "metadata": {
  "kernelspec": {
   "display_name": "Python 3 (ipykernel)",
   "language": "python",
   "name": "python3"
  },
  "language_info": {
   "codemirror_mode": {
    "name": "ipython",
    "version": 3
   },
   "file_extension": ".py",
   "mimetype": "text/x-python",
   "name": "python",
   "nbconvert_exporter": "python",
   "pygments_lexer": "ipython3",
   "version": "3.11.4"
  }
 },
 "nbformat": 4,
 "nbformat_minor": 5
}
